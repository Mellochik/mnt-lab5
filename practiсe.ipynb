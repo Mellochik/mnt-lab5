{
 "cells": [
  {
   "cell_type": "markdown",
   "id": "6b73d8a3",
   "metadata": {},
   "source": [
    "# Исследование набора данных"
   ]
  },
  {
   "cell_type": "markdown",
   "id": "26b2e3c0",
   "metadata": {},
   "source": [
    "## Загрузка датасета"
   ]
  },
  {
   "cell_type": "code",
   "execution_count": 1,
   "id": "6c057196",
   "metadata": {},
   "outputs": [],
   "source": [
    "import os\n",
    "import torch\n",
    "from torchvision import datasets, transforms\n",
    "from torchvision.utils import save_image\n",
    "import numpy as np"
   ]
  },
  {
   "cell_type": "code",
   "execution_count": 3,
   "id": "ac6660b2",
   "metadata": {},
   "outputs": [],
   "source": [
    "# Загрузка FashionMNIST\n",
    "dataset = datasets.FashionMNIST(\n",
    "    root='./data',\n",
    "    train=True,\n",
    "    download=True,\n",
    "    transform=transforms.ToTensor()\n",
    ")"
   ]
  },
  {
   "cell_type": "code",
   "execution_count": 5,
   "id": "4775ce68",
   "metadata": {},
   "outputs": [
    {
     "name": "stdout",
     "output_type": "stream",
     "text": [
      "Saved 0 images\n",
      "Saved 1000 images\n",
      "Saved 2000 images\n",
      "Saved 3000 images\n",
      "Saved 4000 images\n",
      "Saved 5000 images\n",
      "Saved 6000 images\n",
      "Saved 7000 images\n",
      "Saved 8000 images\n",
      "Saved 9000 images\n",
      "Saved 10000 images\n",
      "Saved 11000 images\n",
      "Saved 12000 images\n",
      "Saved 13000 images\n",
      "Saved 14000 images\n",
      "Saved 15000 images\n",
      "Saved 16000 images\n",
      "Saved 17000 images\n",
      "Saved 18000 images\n",
      "Saved 19000 images\n",
      "Saved 20000 images\n",
      "Saved 21000 images\n",
      "Saved 22000 images\n",
      "Saved 23000 images\n",
      "Saved 24000 images\n",
      "Saved 25000 images\n",
      "Saved 26000 images\n",
      "Saved 27000 images\n",
      "Saved 28000 images\n",
      "Saved 29000 images\n",
      "Saved 30000 images\n",
      "Saved 31000 images\n",
      "Saved 32000 images\n",
      "Saved 33000 images\n",
      "Saved 34000 images\n",
      "Saved 35000 images\n",
      "Saved 36000 images\n",
      "Saved 37000 images\n",
      "Saved 38000 images\n",
      "Saved 39000 images\n",
      "Saved 40000 images\n",
      "Saved 41000 images\n",
      "Saved 42000 images\n",
      "Saved 43000 images\n",
      "Saved 44000 images\n",
      "Saved 45000 images\n",
      "Saved 46000 images\n",
      "Saved 47000 images\n",
      "Saved 48000 images\n",
      "Saved 49000 images\n",
      "Saved 50000 images\n",
      "Saved 51000 images\n",
      "Saved 52000 images\n",
      "Saved 53000 images\n",
      "Saved 54000 images\n",
      "Saved 55000 images\n",
      "Saved 56000 images\n",
      "Saved 57000 images\n",
      "Saved 58000 images\n",
      "Saved 59000 images\n"
     ]
    }
   ],
   "source": [
    "# Папка для сохранения\n",
    "save_dir = 'fashionmnist_colored'\n",
    "os.makedirs(save_dir, exist_ok=True)\n",
    "\n",
    "# Сохраняем изображения\n",
    "for idx, (img, label) in enumerate(dataset):\n",
    "    img_np = img.numpy().squeeze()  # [H, W]\n",
    "    color = np.random.rand(3, 1, 1)\n",
    "    img_colored = img_np * color  # [3, H, W]\n",
    "    img_colored = torch.tensor(img_colored, dtype=torch.float32)\n",
    "    save_path = os.path.join(save_dir, f'{idx:05d}_label_{label}.png')\n",
    "    save_image(img_colored, save_path)\n",
    "    if idx % 1000 == 0:\n",
    "        print(f'Saved {idx} images')"
   ]
  },
  {
   "cell_type": "code",
   "execution_count": 6,
   "id": "3fc55b1a",
   "metadata": {},
   "outputs": [
    {
     "name": "stdout",
     "output_type": "stream",
     "text": [
      "Saved 0 gray3 images\n",
      "Saved 1000 gray3 images\n",
      "Saved 2000 gray3 images\n",
      "Saved 3000 gray3 images\n",
      "Saved 4000 gray3 images\n",
      "Saved 5000 gray3 images\n",
      "Saved 6000 gray3 images\n",
      "Saved 7000 gray3 images\n",
      "Saved 8000 gray3 images\n",
      "Saved 9000 gray3 images\n",
      "Saved 10000 gray3 images\n",
      "Saved 11000 gray3 images\n",
      "Saved 12000 gray3 images\n",
      "Saved 13000 gray3 images\n",
      "Saved 14000 gray3 images\n",
      "Saved 15000 gray3 images\n",
      "Saved 16000 gray3 images\n",
      "Saved 17000 gray3 images\n",
      "Saved 18000 gray3 images\n",
      "Saved 19000 gray3 images\n",
      "Saved 20000 gray3 images\n",
      "Saved 21000 gray3 images\n",
      "Saved 22000 gray3 images\n",
      "Saved 23000 gray3 images\n",
      "Saved 24000 gray3 images\n",
      "Saved 25000 gray3 images\n",
      "Saved 26000 gray3 images\n",
      "Saved 27000 gray3 images\n",
      "Saved 28000 gray3 images\n",
      "Saved 29000 gray3 images\n",
      "Saved 30000 gray3 images\n",
      "Saved 31000 gray3 images\n",
      "Saved 32000 gray3 images\n",
      "Saved 33000 gray3 images\n",
      "Saved 34000 gray3 images\n",
      "Saved 35000 gray3 images\n",
      "Saved 36000 gray3 images\n",
      "Saved 37000 gray3 images\n",
      "Saved 38000 gray3 images\n",
      "Saved 39000 gray3 images\n",
      "Saved 40000 gray3 images\n",
      "Saved 41000 gray3 images\n",
      "Saved 42000 gray3 images\n",
      "Saved 43000 gray3 images\n",
      "Saved 44000 gray3 images\n",
      "Saved 45000 gray3 images\n",
      "Saved 46000 gray3 images\n",
      "Saved 47000 gray3 images\n",
      "Saved 48000 gray3 images\n",
      "Saved 49000 gray3 images\n",
      "Saved 50000 gray3 images\n",
      "Saved 51000 gray3 images\n",
      "Saved 52000 gray3 images\n",
      "Saved 53000 gray3 images\n",
      "Saved 54000 gray3 images\n",
      "Saved 55000 gray3 images\n",
      "Saved 56000 gray3 images\n",
      "Saved 57000 gray3 images\n",
      "Saved 58000 gray3 images\n",
      "Saved 59000 gray3 images\n"
     ]
    }
   ],
   "source": [
    "# Папка для сохранения черно-белых изображений с 3 каналами\n",
    "gray3_dir = 'fashionmnist_gray3'\n",
    "os.makedirs(gray3_dir, exist_ok=True)\n",
    "\n",
    "for idx, (img, label) in enumerate(dataset):\n",
    "    img_gray3 = img.repeat(3, 1, 1)  # [3, H, W]\n",
    "    save_path = os.path.join(gray3_dir, f'{idx:05d}_label_{label}.png')\n",
    "    save_image(img_gray3, save_path)\n",
    "    if idx % 1000 == 0:\n",
    "        print(f'Saved {idx} gray3 images')"
   ]
  }
 ],
 "metadata": {
  "kernelspec": {
   "display_name": ".venv",
   "language": "python",
   "name": "python3"
  },
  "language_info": {
   "codemirror_mode": {
    "name": "ipython",
    "version": 3
   },
   "file_extension": ".py",
   "mimetype": "text/x-python",
   "name": "python",
   "nbconvert_exporter": "python",
   "pygments_lexer": "ipython3",
   "version": "3.13.2"
  }
 },
 "nbformat": 4,
 "nbformat_minor": 5
}
